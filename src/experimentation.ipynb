{
 "cells": [
  {
   "cell_type": "code",
   "execution_count": 1,
   "metadata": {},
   "outputs": [
    {
     "name": "stderr",
     "output_type": "stream",
     "text": [
      "c:\\Users\\wbrya\\OneDrive\\Documents\\GitHub\\nlp-assignment-y2s3\\venv\\lib\\site-packages\\tqdm\\auto.py:21: TqdmWarning: IProgress not found. Please update jupyter and ipywidgets. See https://ipywidgets.readthedocs.io/en/stable/user_install.html\n",
      "  from .autonotebook import tqdm as notebook_tqdm\n"
     ]
    }
   ],
   "source": [
    "import google.generativeai as genai\n",
    "import json\n",
    "\n",
    "from dotenv import load_dotenv\n",
    "import os\n",
    "from app.prompts import SystemPrompt\n",
    "\n",
    "load_dotenv()\n",
    "GOOGLE_API_KEY = os.getenv(\"GOOGLE_API_KEY\")\n"
   ]
  },
  {
   "cell_type": "code",
   "execution_count": 2,
   "metadata": {},
   "outputs": [],
   "source": [
    "genai.configure(api_key=GOOGLE_API_KEY)\n",
    "model = genai.GenerativeModel(\n",
    "    model_name=\"gemini-2.0-flash\",\n",
    "    )"
   ]
  },
  {
   "cell_type": "code",
   "execution_count": null,
   "metadata": {},
   "outputs": [],
   "source": [
    "import pickle\n",
    "\n",
    "\n",
    "def save_chat_history_to_variable(history, filename=\"chat_history.pkl\"):\n",
    "    \"\"\"Saves the chat history to a file using pickle.\"\"\"\n",
    "    with open(filename, 'wb') as f:  # Use 'wb' for binary write\n",
    "        pickle.dump(history, f)\n",
    "\n",
    "def load_chat_history_from_variable(filename=\"chat_history.pkl\"):\n",
    "    \"\"\"Loads the chat history from a file using pickle.\"\"\"\n",
    "    try:\n",
    "        with open(filename, 'rb') as f:  # Use 'rb' for binary read\n",
    "            return pickle.load(f)\n",
    "    except FileNotFoundError:\n",
    "        return []"
   ]
  },
  {
   "cell_type": "code",
   "execution_count": 5,
   "metadata": {},
   "outputs": [
    {
     "name": "stdout",
     "output_type": "stream",
     "text": [
      "As a large language model, I have no memory of past conversations and therefore don't know your name. You have not told me your name.\n",
      "\n",
      "Current Chat History:\n",
      "[parts {\n",
      "  text: \"What\\'s my name?\"\n",
      "}\n",
      "role: \"user\"\n",
      ", parts {\n",
      "  text: \"As a large language model, I have no memory of past conversations and therefore don\\'t know your name. You have not told me your name.\\n\"\n",
      "}\n",
      "role: \"model\"\n",
      "]\n",
      "Chat history saved to variable 'saved_history'\n"
     ]
    }
   ],
   "source": [
    "# For the first time, initialize it as None\n",
    "saved_history = None # Initialize saved history\n",
    "loaded_history = load_chat_history_from_variable(saved_history)  # Load\n",
    "\n",
    "# Start a chat session with the loaded history\n",
    "chat_session = model.start_chat(history=loaded_history)\n",
    "\n",
    "# Send a message to the chat session\n",
    "response = chat_session.send_message(\"What's my name?\")\n",
    "\n",
    "# Print the response\n",
    "print(response.text)\n",
    "\n",
    "# Print the current chat history (for verification)\n",
    "print(\"Current Chat History:\")\n",
    "print(chat_session.history)\n",
    "\n",
    "# Save the updated chat history to the variable\n",
    "saved_history = save_chat_history_to_variable(chat_session.history)\n",
    "\n",
    "print(\"Chat history saved to variable 'saved_history'\")"
   ]
  },
  {
   "cell_type": "code",
   "execution_count": null,
   "metadata": {},
   "outputs": [],
   "source": [
    "#Add user name to the chat:\n",
    "chat_session.history.append({\n",
    "  \"role\": \"user\",\n",
    "  \"parts\": [\"My name is John.\"]\n",
    "})\n",
    "\n",
    "response = chat_session.send_message(\"Okay, what's my name?\")\n",
    "\n",
    "print(response.text)\n",
    "print(chat_session.history)"
   ]
  }
 ],
 "metadata": {
  "kernelspec": {
   "display_name": "venv",
   "language": "python",
   "name": "python3"
  },
  "language_info": {
   "codemirror_mode": {
    "name": "ipython",
    "version": 3
   },
   "file_extension": ".py",
   "mimetype": "text/x-python",
   "name": "python",
   "nbconvert_exporter": "python",
   "pygments_lexer": "ipython3",
   "version": "3.10.11"
  }
 },
 "nbformat": 4,
 "nbformat_minor": 2
}
